{
 "cells": [
  {
   "cell_type": "markdown",
   "metadata": {},
   "source": [
    "# Machine Learning\n",
    "\n",
    "* This notebook evalutates standard classifiers from scikit-learn on the provided features selection."
   ]
  },
  {
   "cell_type": "code",
   "execution_count": 1,
   "metadata": {},
   "outputs": [
    {
     "name": "stderr",
     "output_type": "stream",
     "text": [
      "C:\\Anaconda3\\envs\\tfm\\lib\\site-packages\\sklearn\\ensemble\\weight_boosting.py:29: DeprecationWarning: numpy.core.umath_tests is an internal NumPy module and should not be imported. It will be removed in a future NumPy release.\n",
      "  from numpy.core.umath_tests import inner1d\n"
     ]
    }
   ],
   "source": [
    "import time\n",
    "import os\n",
    "\n",
    "import IPython.display as ipd\n",
    "from tqdm import tqdm_notebook\n",
    "import matplotlib.pyplot as plt\n",
    "import numpy as np\n",
    "import pandas as pd\n",
    "import pickle\n",
    "\n",
    "\n",
    "from sklearn.utils import shuffle\n",
    "from sklearn.preprocessing import MultiLabelBinarizer, LabelEncoder, LabelBinarizer, StandardScaler\n",
    "from sklearn.linear_model import LogisticRegression\n",
    "from sklearn.neighbors import KNeighborsClassifier\n",
    "from sklearn.svm import SVC, LinearSVC\n",
    "from sklearn.tree import DecisionTreeClassifier\n",
    "from sklearn.ensemble import RandomForestClassifier, AdaBoostClassifier, GradientBoostingClassifier\n",
    "from xgboost import XGBClassifier\n",
    "\n",
    "from sklearn.neural_network import MLPClassifier\n",
    "from sklearn.naive_bayes import GaussianNB\n",
    "from sklearn.discriminant_analysis import QuadraticDiscriminantAnalysis\n",
    "from sklearn.multiclass import OneVsRestClassifier\n",
    "from sklearn.metrics import cohen_kappa_score\n",
    "from sklearn.decomposition import PCA\n",
    "from matplotlib import cm\n",
    "from imblearn.pipeline import make_pipeline, Pipeline\n",
    "from imblearn.under_sampling import EditedNearestNeighbours\n",
    "\n",
    "import utils\n",
    "\n",
    "plt.style.use('ggplot')\n",
    "plt.rcParams['figure.figsize'] = (18, 8)\n",
    "plt.rcParams[\"legend.facecolor\"] = \"white\"\n",
    "plt.rcParams[\"legend.borderpad\"] = 1\n",
    "plt.rcParams[\"axes.grid\"] = False\n",
    "pallete_colors = cm.get_cmap('Set3', 16)\n",
    "subset_size = \"large\""
   ]
  },
  {
   "cell_type": "code",
   "execution_count": 2,
   "metadata": {},
   "outputs": [
    {
     "data": {
      "text/plain": [
       "((104343, 52), (104343, 518), (163, 4))"
      ]
     },
     "execution_count": 2,
     "metadata": {},
     "output_type": "execute_result"
    }
   ],
   "source": [
    "AUDIO_DIR = os.environ.get('AUDIO_DIR',\n",
    "                           'C:\\\\Users\\\\lrubio\\\\Desktop\\\\TFM\\\\tfm-mir\\\\data\\\\fma_small')\n",
    "\n",
    "# Loading data created in first notebook and preporcessing\n",
    "file_tracks =  open('../data/fma_metadata/tracks.pkl', 'rb') \n",
    "tracks = pickle.load(file_tracks)\n",
    "file_features =  open('../data/fma_metadata/features.pkl', 'rb') \n",
    "features = pickle.load(file_features)\n",
    "genres = utils.load('../data/fma_metadata/genres.csv')\n",
    "\n",
    "tracks.shape, features.shape, genres.shape"
   ]
  },
  {
   "cell_type": "markdown",
   "metadata": {},
   "source": [
    "## Subset"
   ]
  },
  {
   "cell_type": "code",
   "execution_count": 3,
   "metadata": {},
   "outputs": [
    {
     "data": {
      "text/plain": [
       "((104343, 52), (104343, 518))"
      ]
     },
     "execution_count": 3,
     "metadata": {},
     "output_type": "execute_result"
    }
   ],
   "source": [
    "subset = tracks.index[tracks['set', 'subset'] <= subset_size]\n",
    "\n",
    "assert subset.isin(tracks.index).all()\n",
    "assert subset.isin(features.index).all()\n",
    "\n",
    "tracks = tracks.loc[subset]\n",
    "features_all = features.loc[subset]\n",
    "\n",
    "tracks.shape, features_all.shape"
   ]
  },
  {
   "cell_type": "code",
   "execution_count": 4,
   "metadata": {},
   "outputs": [
    {
     "name": "stdout",
     "output_type": "stream",
     "text": [
      "93222 training examples, 11121 testing examples\n",
      "Top genres (16): ['Blues', 'Classical', 'Country', 'Easy Listening', 'Electronic', 'Experimental', 'Folk', 'Hip-Hop', 'Instrumental', 'International', 'Jazz', 'Old-Time / Historic', 'Pop', 'Rock', 'Soul-RnB', 'Spoken']\n",
      "All genres (161): [1, 2, 3, 4, 5, 6, 7, 8, 9, 10, 11, 12, 13, 14, 15, 16, 17, 18, 19, 20, 21, 22, 25, 26, 27, 30, 31, 32, 33, 36, 37, 38, 41, 42, 43, 45, 46, 47, 49, 53, 58, 63, 64, 65, 66, 70, 71, 74, 76, 77, 79, 81, 83, 85, 86, 88, 89, 90, 92, 94, 97, 98, 100, 101, 102, 103, 107, 109, 111, 113, 117, 118, 125, 130, 137, 138, 166, 167, 169, 170, 171, 172, 173, 174, 176, 177, 179, 180, 181, 182, 183, 184, 185, 186, 187, 188, 189, 214, 224, 232, 236, 240, 247, 250, 267, 286, 296, 297, 311, 314, 322, 337, 359, 360, 361, 362, 374, 377, 378, 400, 401, 404, 428, 439, 440, 441, 442, 443, 444, 456, 465, 468, 491, 493, 495, 502, 504, 514, 524, 538, 539, 542, 567, 580, 602, 619, 651, 659, 693, 695, 741, 763, 808, 810, 811, 906, 1032, 1060, 1156, 1193, 1235]\n"
     ]
    }
   ],
   "source": [
    "train = tracks.index[(tracks['set', 'split'] == 'training')\n",
    "                     | (tracks['set', 'split'] == 'validation')]\n",
    "test = tracks.index[tracks['set', 'split'] == 'test']\n",
    "\n",
    "print('{} training examples, {} testing examples'.format(\n",
    "    *map(len, [train, test])))\n",
    "\n",
    "genres = list(LabelEncoder().fit(tracks['track', 'genre_top']).classes_)\n",
    "#genres = list(tracks['track', 'genre_top'].unique())\n",
    "print('Top genres ({}): {}'.format(len(genres), genres))\n",
    "genres = list(MultiLabelBinarizer().fit(\n",
    "    tracks['track', 'genres_all']).classes_)\n",
    "print('All genres ({}): {}'.format(len(genres), genres))"
   ]
  },
  {
   "cell_type": "code",
   "execution_count": 5,
   "metadata": {},
   "outputs": [],
   "source": [
    "def plot_confusion_matrix(y_true, y_pred, classes,\n",
    "                          normalize=False,\n",
    "                          title=None,\n",
    "                          cmap=plt.cm.Oranges,\n",
    "                          url_image='graph.png'):\n",
    "    \"\"\"\n",
    "    This function prints and plots the confusion matrix.\n",
    "    Normalization can be applied by setting `normalize=True`.\n",
    "    \"\"\"\n",
    "    if not title:\n",
    "        if normalize:\n",
    "            title = 'Normalized confusion matrix'\n",
    "        else:\n",
    "            title = 'Confusion matrix, without normalization'\n",
    "\n",
    "    # Compute confusion matrix\n",
    "    cm = confusion_matrix(y_true, y_pred)\n",
    "    # Only use the labels that appear in the data\n",
    "    classes = classes[unique_labels(y_true, y_pred)]\n",
    "\n",
    "    fig, ax = plt.subplots()\n",
    "    im = ax.imshow(cm, interpolation='nearest', cmap=cmap, aspect='auto')\n",
    "    ax.figure.colorbar(im, ax=ax)\n",
    "    # We want to show all ticks...\n",
    "    ax.set(xticks=np.arange(cm.shape[1]),\n",
    "           yticks=np.arange(cm.shape[0]),\n",
    "           # ... and label them with the respective list entries\n",
    "           xticklabels=classes, yticklabels=classes,\n",
    "           ylabel='True label',\n",
    "           xlabel='Predicted label')\n",
    "    \n",
    "    # Add title\n",
    "    plt.title(title, pad=20)\n",
    "\n",
    "    # Rotate the tick labels and set their alignment.\n",
    "    plt.setp(ax.get_xticklabels(), rotation=45, ha=\"right\",\n",
    "             rotation_mode=\"anchor\")\n",
    "\n",
    "    # Loop over data dimensions and create text annotations.\n",
    "    fmt = '.2f' if normalize else 'd'\n",
    "    thresh = cm.max() / 2.\n",
    "    for i in range(cm.shape[0]):\n",
    "        for j in range(cm.shape[1]):\n",
    "            ax.text(j, i, format(cm[i, j], fmt),\n",
    "                    ha=\"center\", va=\"center\",\n",
    "                    color=\"white\" if cm[i, j] > thresh else \"black\")\n",
    "    fig.tight_layout()\n",
    "    plt.savefig(url_image)\n",
    "\n",
    "    return ax, cm"
   ]
  },
  {
   "cell_type": "markdown",
   "metadata": {},
   "source": [
    "### Pre-processing"
   ]
  },
  {
   "cell_type": "code",
   "execution_count": 6,
   "metadata": {
    "scrolled": false
   },
   "outputs": [],
   "source": [
    "def pre_process(tracks, features, columns, multi_label=False, verbose=False, pca_active=False):\n",
    "\n",
    "    if not multi_label:\n",
    "        # Assign an integer value to each genre.\n",
    "        enc = LabelEncoder()\n",
    "        labels = tracks['track', 'genre_top']\n",
    "    else:\n",
    "        # Create an indicator matrix.\n",
    "        enc = MultiLabelBinarizer()\n",
    "        labels = tracks['track', 'genres_all']\n",
    "\n",
    "    if(pca_active and len(columns) == 0):\n",
    "        X_train = PCA(n_components=4,\n",
    "                      whiten=True).fit_transform(\n",
    "            features.loc[train].values)\n",
    "        X_test = PCA(n_components=4,\n",
    "                     whiten=True).fit_transform(\n",
    "            features.loc[test].values)\n",
    "    else:\n",
    "        X_train = features.loc[train, columns].values\n",
    "        X_test = features.loc[test, columns].values\n",
    "\n",
    "    y_train = enc.fit_transform(labels[train])\n",
    "    y_test = enc.transform(labels[test])\n",
    "    classes = enc.classes_\n",
    "\n",
    "    X_train, y_train = shuffle(X_train, y_train, random_state=42)\n",
    "\n",
    "    # Standardize features by removing the mean and scaling to unit variance.\n",
    "    scaler = StandardScaler(copy=False)\n",
    "    scaler.fit_transform(X_train)\n",
    "    scaler.transform(X_test)\n",
    "\n",
    "    return y_train, y_test, X_train, X_test, classes"
   ]
  },
  {
   "cell_type": "code",
   "execution_count": 7,
   "metadata": {},
   "outputs": [],
   "source": [
    "def test_classifiers_features(classifiers, feature_sets, multi_label=False, pca_active=False):\n",
    "    columns = list(classifiers.keys()).insert(0, 'dim')\n",
    "  \n",
    "    scores = pd.DataFrame(columns=columns, index=feature_sets.keys())\n",
    "    times = pd.DataFrame(columns=classifiers.keys(), index=feature_sets.keys())\n",
    "    for fset_name, fset in tqdm_notebook(feature_sets.items(), desc='features'):\n",
    "        y_train, y_val,y_test, X_train,X_val, X_test = pre_process(\n",
    "            tracks, features_all, fset, multi_label, False, pca_active)\n",
    "        scores.loc[fset_name, 'dim'] = X_train.shape[1]\n",
    "        for clf_name, clf in classifiers.items():\n",
    "            t = time.process_time()\n",
    "            clf.fit(X_train, y_train)\n",
    "            predicted = clf.predict(X_test)\n",
    "            score = cohen_kappa_score(predicted, y_test)\n",
    "            scores.loc[fset_name, clf_name] = score\n",
    "            times.loc[fset_name, clf_name] = time.process_time() - t\n",
    "    return scores, times\n",
    "\n",
    "\n",
    "def format_scores(scores):\n",
    "    def highlight(s):\n",
    "        is_max = s == max(s[1:])\n",
    "        return ['background-color: yellow' if v else '' for v in is_max]\n",
    "    scores = scores.style.apply(highlight, axis=1)\n",
    "    return scores.format('{:.2%}', subset=pd.IndexSlice[:, scores.columns[1]:])"
   ]
  },
  {
   "cell_type": "markdown",
   "metadata": {
    "scrolled": false
   },
   "source": [
    "## Ensemble\n",
    "\n",
    "Based on this criterias:\n",
    "\n",
    "* Best Accuracy\n",
    "* Time excecution\n",
    "* Diversity in model construction\n",
    "\n",
    "We dicided to buil an ensemble model using `mfcc/contrast/chroma/centroid/tonnetz` features, with this models:\n",
    "\n",
    "* _Xtreme Gradient Boosting_\n",
    "* _Logistic Regresion_\n",
    "* _Linear Support Vector Machine_"
   ]
  },
  {
   "cell_type": "code",
   "execution_count": 8,
   "metadata": {},
   "outputs": [],
   "source": [
    "from sklearn.model_selection import StratifiedKFold, RandomizedSearchCV\n",
    "from sklearn.metrics import accuracy_score, cohen_kappa_score, make_scorer, confusion_matrix\n",
    "from sklearn.ensemble import VotingClassifier\n",
    "from sklearn.utils.multiclass import unique_labels"
   ]
  },
  {
   "cell_type": "code",
   "execution_count": 9,
   "metadata": {},
   "outputs": [],
   "source": [
    "kappa_scorer = make_scorer(cohen_kappa_score)\n",
    "\n",
    "final_columns = ['mfcc', 'spectral_contrast',\n",
    "                 'chroma_cens', 'spectral_centroid',\n",
    "                 'tonnetz']\n",
    "\n",
    "y_train, y_test, X_train, X_test, name_classes = pre_process(\n",
    "    tracks, features, final_columns, False)"
   ]
  },
  {
   "cell_type": "markdown",
   "metadata": {},
   "source": [
    "### Xtreme Gradient Boostig"
   ]
  },
  {
   "cell_type": "code",
   "execution_count": null,
   "metadata": {},
   "outputs": [
    {
     "name": "stdout",
     "output_type": "stream",
     "text": [
      "Fitting 3 folds for each of 10 candidates, totalling 30 fits\n"
     ]
    }
   ],
   "source": [
    "param_grid_xgb = {\n",
    "    'xgb__max_depth': [6, 12, 24, 48],\n",
    "    'xgb__n_estimators': [50, 100, 200],\n",
    "    'xgb__learning_rate': [0.0001, 0.001, 0.01, 0.1],\n",
    "    'xgb__colsample_bytree': [0.3, 0.5],\n",
    "}\n",
    "\n",
    "inner_cv = StratifiedKFold(n_splits=3,\n",
    "                           shuffle=True,\n",
    "                           random_state=1212)\n",
    "\n",
    "xgb_estimator = XGBClassifier(n_jobs=-1,\n",
    "                              random_state=1212)\n",
    "\n",
    "enn = EditedNearestNeighbours(n_jobs=-1,\n",
    "                              random_state=1212)\n",
    "\n",
    "pipeline_xgb = Pipeline([('smote_xgb', enn),\n",
    "                         ('xgb', xgb_estimator)])\n",
    "\n",
    "gsearch_xgb = RandomizedSearchCV(estimator=pipeline_xgb,\n",
    "                                 cv=inner_cv.split(X_train, y_train),\n",
    "                                 param_distributions=param_grid_xgb,\n",
    "                                 scoring='accuracy',\n",
    "                                 refit=True,\n",
    "                                 return_train_score=True,\n",
    "                                 n_jobs=-1,\n",
    "                                 verbose=2)\n",
    "\n",
    "gsearch_xgb.fit(X_train, y_train)"
   ]
  },
  {
   "cell_type": "code",
   "execution_count": 19,
   "metadata": {},
   "outputs": [],
   "source": [
    "file_xgb = open('../data/fma_metadata/models/xgb_b.pkl', 'wb') \n",
    "pickle.dump(gsearch_xgb.best_estimator_, file_xgb)"
   ]
  },
  {
   "cell_type": "code",
   "execution_count": 10,
   "metadata": {},
   "outputs": [],
   "source": [
    "file_xgb =  open('../data/fma_metadata/models/xgb_b.pkl', 'rb') \n",
    "xgb_model = pickle.load(file_xgb)"
   ]
  },
  {
   "cell_type": "markdown",
   "metadata": {},
   "source": [
    "### Logistic Regression"
   ]
  },
  {
   "cell_type": "code",
   "execution_count": 11,
   "metadata": {},
   "outputs": [
    {
     "name": "stdout",
     "output_type": "stream",
     "text": [
      "Fitting 3 folds for each of 7 candidates, totalling 21 fits\n"
     ]
    },
    {
     "name": "stderr",
     "output_type": "stream",
     "text": [
      "[Parallel(n_jobs=-1)]: Done  17 out of  21 | elapsed: 12.2min remaining:  2.9min\n",
      "[Parallel(n_jobs=-1)]: Done  21 out of  21 | elapsed: 12.8min finished\n"
     ]
    },
    {
     "data": {
      "text/plain": [
       "RandomizedSearchCV(cv=<generator object _BaseKFold.split at 0x000001DBA6C98D58>,\n",
       "          error_score='raise',\n",
       "          estimator=LogisticRegression(C=1.0, class_weight=None, dual=False, fit_intercept=True,\n",
       "          intercept_scaling=1, max_iter=100, multi_class='ovr', n_jobs=-1,\n",
       "          penalty='l2', random_state=None, solver='lbfgs', tol=0.0001,\n",
       "          verbose=0, warm_start=False),\n",
       "          fit_params=None, iid=True, n_iter=7, n_jobs=-1,\n",
       "          param_distributions={'C': [0.001, 0.01, 0.1, 1, 10, 100, 1000]},\n",
       "          pre_dispatch='2*n_jobs', random_state=None, refit=True,\n",
       "          return_train_score=True, scoring=make_scorer(cohen_kappa_score),\n",
       "          verbose=2)"
      ]
     },
     "execution_count": 11,
     "metadata": {},
     "output_type": "execute_result"
    }
   ],
   "source": [
    "param_grid_lr = {\n",
    "    \"C\": [0.001, 0.01, 0.1, 1, 10, 100, 1000],\n",
    "}\n",
    "\n",
    "lr_estimator = LogisticRegression(n_jobs=-1, solver=\"lbfgs\")\n",
    "\n",
    "pipeline_lr = Pipeline([('smote_xgb', enn),\n",
    "                        ('xgb', lr_estimator)])\n",
    "\n",
    "gsearch_lr = RandomizedSearchCV(estimator=pipeline_lr,\n",
    "                                cv=inner_cv.split(X_train, y_train),\n",
    "                                param_distributions=param_grid_lr,\n",
    "                                scoring=kappa_scorer,\n",
    "                                refit=True,\n",
    "                                n_iter=7,\n",
    "                                return_train_score=True,\n",
    "                                n_jobs=-1,\n",
    "                                verbose=2)\n",
    "\n",
    "gsearch_lr.fit(X_train, y_train)"
   ]
  },
  {
   "cell_type": "code",
   "execution_count": 22,
   "metadata": {},
   "outputs": [],
   "source": [
    "file_lr = open('../data/fma_metadata/models/lr_b.pkl', 'wb') \n",
    "pickle.dump(gsearch_lr.best_estimator_, file_lr)"
   ]
  },
  {
   "cell_type": "code",
   "execution_count": 11,
   "metadata": {},
   "outputs": [],
   "source": [
    "file_lr =  open('../data/fma_metadata/models/lr_b.pkl', 'rb') \n",
    "lr_model = pickle.load(file_lr)"
   ]
  },
  {
   "cell_type": "markdown",
   "metadata": {},
   "source": [
    "### Linear Support Vector Machine"
   ]
  },
  {
   "cell_type": "code",
   "execution_count": 12,
   "metadata": {},
   "outputs": [
    {
     "name": "stdout",
     "output_type": "stream",
     "text": [
      "Fitting 3 folds for each of 7 candidates, totalling 21 fits\n"
     ]
    },
    {
     "name": "stderr",
     "output_type": "stream",
     "text": [
      "[Parallel(n_jobs=-1)]: Done  17 out of  21 | elapsed: 83.8min remaining: 19.7min\n",
      "[Parallel(n_jobs=-1)]: Done  21 out of  21 | elapsed: 115.8min finished\n"
     ]
    },
    {
     "data": {
      "text/plain": [
       "RandomizedSearchCV(cv=<generator object _BaseKFold.split at 0x000001DB9A804D00>,\n",
       "          error_score='raise',\n",
       "          estimator=LinearSVC(C=1.0, class_weight=None, dual=True, fit_intercept=True,\n",
       "     intercept_scaling=1, loss='squared_hinge', max_iter=1000,\n",
       "     multi_class='ovr', penalty='l2', random_state=1212, tol=0.0001,\n",
       "     verbose=0),\n",
       "          fit_params=None, iid=True, n_iter=7, n_jobs=-1,\n",
       "          param_distributions={'C': [0.001, 0.01, 0.1, 1, 10, 100, 1000]},\n",
       "          pre_dispatch='2*n_jobs', random_state=None, refit=True,\n",
       "          return_train_score=True, scoring=make_scorer(cohen_kappa_score),\n",
       "          verbose=2)"
      ]
     },
     "execution_count": 12,
     "metadata": {},
     "output_type": "execute_result"
    }
   ],
   "source": [
    "param_grid_lsvm = {\n",
    "    \"C\": [0.001, 0.01, 0.1, 1, 10, 100, 1000],\n",
    "\n",
    "}\n",
    "\n",
    "lsvm_estimator = LinearSVC(random_state=1212)\n",
    "\n",
    "pipeline_lsvm = Pipeline([('smote_xgb', enn),\n",
    "                          ('xgb', lsvm_estimator)])\n",
    "\n",
    "\n",
    "gsearch_lsvm = RandomizedSearchCV(estimator=pipeline_lsvm,\n",
    "                                  cv=inner_cv.split(X_train, y_train),\n",
    "                                  param_distributions=param_grid_lsvm,\n",
    "                                  scoring=kappa_scorer,\n",
    "                                  refit=True,\n",
    "                                  n_iter=7,\n",
    "                                  return_train_score=True,\n",
    "                                  n_jobs=-1,\n",
    "                                  verbose=2)\n",
    "\n",
    "gsearch_lsvm.fit(X_train, y_train)"
   ]
  },
  {
   "cell_type": "code",
   "execution_count": 25,
   "metadata": {},
   "outputs": [],
   "source": [
    "file_lsvm = open('../data/fma_metadata/models/lsvm_b.pkl', 'wb') \n",
    "pickle.dump(gsearch_lsvm.best_estimator_, file_lsvm)"
   ]
  },
  {
   "cell_type": "code",
   "execution_count": 12,
   "metadata": {},
   "outputs": [],
   "source": [
    "file_lsvm =  open('../data/fma_metadata/models/lsvm_b.pkl', 'rb') \n",
    "lsvm_model = pickle.load(file_lsvm)"
   ]
  },
  {
   "cell_type": "markdown",
   "metadata": {},
   "source": [
    "### Voting Ensemble"
   ]
  },
  {
   "cell_type": "code",
   "execution_count": null,
   "metadata": {},
   "outputs": [],
   "source": [
    "voting_classifier = VotingClassifier(estimators=[('xgb', xgb_model),\n",
    "                                                 ('lr', lr_model),\n",
    "                                                 ('lsvm', lsvm_model)], voting='hard')\n",
    "\n",
    "voting_classifier.fit(X_train, y_train)"
   ]
  },
  {
   "cell_type": "code",
   "execution_count": 43,
   "metadata": {},
   "outputs": [],
   "source": [
    "file_ensemble = open('../data/fma_metadata/models/ensemble_b.pkl', 'wb') \n",
    "pickle.dump(voting_classifier, file_ensemble)"
   ]
  },
  {
   "cell_type": "code",
   "execution_count": 67,
   "metadata": {},
   "outputs": [],
   "source": [
    "file_ensemble = open('../data/fma_metadata/models/ensemble_b.pkl', 'rb')\n",
    "voting_classifier = pickle.load(file_ensemble)"
   ]
  },
  {
   "cell_type": "markdown",
   "metadata": {},
   "source": [
    "#### Confusion Matrix"
   ]
  },
  {
   "cell_type": "code",
   "execution_count": null,
   "metadata": {},
   "outputs": [],
   "source": [
    "y_predict = voting_classifier.predict(X_test)"
   ]
  },
  {
   "cell_type": "code",
   "execution_count": 101,
   "metadata": {},
   "outputs": [
    {
     "data": {
      "image/png": "[encoded data removed]",
      "text/plain": [
       "<Figure size 1296x576 with 2 Axes>"
      ]
     },
     "metadata": {},
     "output_type": "display_data"
    }
   ],
   "source": [
    "_, cm = plot_confusion_matrix(y_test, y_predict, classes=name_classes,\n",
    "                              title='Confusion matrix - Balanced Ensemble',\n",
    "                              url_image='graphs/cm/cm-be.png')"
   ]
  },
  {
   "cell_type": "code",
   "execution_count": 70,
   "metadata": {},
   "outputs": [
    {
     "name": "stdout",
     "output_type": "stream",
     "text": [
      "Total Accuracy: 46.32%\n",
      "Total Kappa: 33.22%\n"
     ]
    }
   ],
   "source": [
    "print(f\"Total Accuracy: {round(accuracy_score(y_test, y_predict)*100,2)}%\")\n",
    "print(f\"Total Kappa: {round(cohen_kappa_score(y_test, y_predict)*100,2)}%\")"
   ]
  },
  {
   "cell_type": "markdown",
   "metadata": {},
   "source": [
    "#### Accuracy by class:"
   ]
  },
  {
   "cell_type": "code",
   "execution_count": 77,
   "metadata": {},
   "outputs": [
    {
     "data": {
      "text/html": [
       "<div>\n",
       "<style scoped>\n",
       "    .dataframe tbody tr th:only-of-type {\n",
       "        vertical-align: middle;\n",
       "    }\n",
       "\n",
       "    .dataframe tbody tr th {\n",
       "        vertical-align: top;\n",
       "    }\n",
       "\n",
       "    .dataframe thead th {\n",
       "        text-align: right;\n",
       "    }\n",
       "</style>\n",
       "<table border=\"1\" class=\"dataframe\">\n",
       "  <thead>\n",
       "    <tr style=\"text-align: right;\">\n",
       "      <th></th>\n",
       "      <th>Music Genre</th>\n",
       "      <th>Accuracy %</th>\n",
       "    </tr>\n",
       "  </thead>\n",
       "  <tbody>\n",
       "    <tr>\n",
       "      <th>0</th>\n",
       "      <td>Blues</td>\n",
       "      <td>0</td>\n",
       "    </tr>\n",
       "    <tr>\n",
       "      <th>1</th>\n",
       "      <td>Classical</td>\n",
       "      <td>23.97</td>\n",
       "    </tr>\n",
       "    <tr>\n",
       "      <th>2</th>\n",
       "      <td>Country</td>\n",
       "      <td>0</td>\n",
       "    </tr>\n",
       "    <tr>\n",
       "      <th>3</th>\n",
       "      <td>Easy Listening</td>\n",
       "      <td>2.27</td>\n",
       "    </tr>\n",
       "    <tr>\n",
       "      <th>4</th>\n",
       "      <td>Electronic</td>\n",
       "      <td>55.2</td>\n",
       "    </tr>\n",
       "    <tr>\n",
       "      <th>5</th>\n",
       "      <td>Experimental</td>\n",
       "      <td>66</td>\n",
       "    </tr>\n",
       "    <tr>\n",
       "      <th>6</th>\n",
       "      <td>Folk</td>\n",
       "      <td>27.99</td>\n",
       "    </tr>\n",
       "    <tr>\n",
       "      <th>7</th>\n",
       "      <td>Hip-Hop</td>\n",
       "      <td>38.98</td>\n",
       "    </tr>\n",
       "    <tr>\n",
       "      <th>8</th>\n",
       "      <td>Instrumental</td>\n",
       "      <td>7.17</td>\n",
       "    </tr>\n",
       "    <tr>\n",
       "      <th>9</th>\n",
       "      <td>International</td>\n",
       "      <td>9.72</td>\n",
       "    </tr>\n",
       "    <tr>\n",
       "      <th>10</th>\n",
       "      <td>Jazz</td>\n",
       "      <td>4.55</td>\n",
       "    </tr>\n",
       "    <tr>\n",
       "      <th>11</th>\n",
       "      <td>Old-Time / Historic</td>\n",
       "      <td>74.24</td>\n",
       "    </tr>\n",
       "    <tr>\n",
       "      <th>12</th>\n",
       "      <td>Pop</td>\n",
       "      <td>1.59</td>\n",
       "    </tr>\n",
       "    <tr>\n",
       "      <th>13</th>\n",
       "      <td>Rock</td>\n",
       "      <td>71.84</td>\n",
       "    </tr>\n",
       "    <tr>\n",
       "      <th>14</th>\n",
       "      <td>Soul-RnB</td>\n",
       "      <td>0</td>\n",
       "    </tr>\n",
       "    <tr>\n",
       "      <th>15</th>\n",
       "      <td>Spoken</td>\n",
       "      <td>6.45</td>\n",
       "    </tr>\n",
       "  </tbody>\n",
       "</table>\n",
       "</div>"
      ],
      "text/plain": [
       "            Music Genre Accuracy %\n",
       "0                 Blues          0\n",
       "1             Classical      23.97\n",
       "2               Country          0\n",
       "3        Easy Listening       2.27\n",
       "4            Electronic       55.2\n",
       "5          Experimental         66\n",
       "6                  Folk      27.99\n",
       "7               Hip-Hop      38.98\n",
       "8          Instrumental       7.17\n",
       "9         International       9.72\n",
       "10                 Jazz       4.55\n",
       "11  Old-Time / Historic      74.24\n",
       "12                  Pop       1.59\n",
       "13                 Rock      71.84\n",
       "14             Soul-RnB          0\n",
       "15               Spoken       6.45"
      ]
     },
     "execution_count": 77,
     "metadata": {},
     "output_type": "execute_result"
    }
   ],
   "source": [
    "pd.DataFrame(np.column_stack((name_classes,\n",
    "                              np.round((cm.diagonal()/cm.sum(axis=1)) * 100, 2))),\n",
    "             columns=[\"Music Genre\", \"Accuracy %\"])"
   ]
  }
 ],
 "metadata": {
  "kernelspec": {
   "display_name": "Python 3",
   "language": "python",
   "name": "python3"
  },
  "language_info": {
   "codemirror_mode": {
    "name": "ipython",
    "version": 3
   },
   "file_extension": ".py",
   "mimetype": "text/x-python",
   "name": "python",
   "nbconvert_exporter": "python",
   "pygments_lexer": "ipython3",
   "version": "3.6.8"
  },
  "toc": {
   "base_numbering": 1,
   "nav_menu": {},
   "number_sections": true,
   "sideBar": true,
   "skip_h1_title": false,
   "title_cell": "Table of Contents",
   "title_sidebar": "Contents",
   "toc_cell": false,
   "toc_position": {
    "height": "calc(100% - 180px)",
    "left": "10px",
    "top": "150px",
    "width": "307.2px"
   },
   "toc_section_display": true,
   "toc_window_display": false
  },
  "varInspector": {
   "cols": {
    "lenName": 16,
    "lenType": 16,
    "lenVar": 40
   },
   "kernels_config": {
    "python": {
     "delete_cmd_postfix": "",
     "delete_cmd_prefix": "del ",
     "library": "var_list.py",
     "varRefreshCmd": "print(var_dic_list())"
    },
    "r": {
     "delete_cmd_postfix": ") ",
     "delete_cmd_prefix": "rm(",
     "library": "var_list.r",
     "varRefreshCmd": "cat(var_dic_list()) "
    }
   },
   "types_to_exclude": [
    "module",
    "function",
    "builtin_function_or_method",
    "instance",
    "_Feature"
   ],
   "window_display": false
  }
 },
 "nbformat": 4,
 "nbformat_minor": 1
}
